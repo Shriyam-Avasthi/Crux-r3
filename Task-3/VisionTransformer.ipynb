{
 "cells": [
  {
   "cell_type": "code",
   "execution_count": 1,
   "metadata": {},
   "outputs": [
    {
     "name": "stderr",
     "output_type": "stream",
     "text": [
      "2024-06-14 19:40:33.655445: E tensorflow/compiler/xla/stream_executor/cuda/cuda_dnn.cc:9342] Unable to register cuDNN factory: Attempting to register factory for plugin cuDNN when one has already been registered\n",
      "2024-06-14 19:40:33.655501: E tensorflow/compiler/xla/stream_executor/cuda/cuda_fft.cc:609] Unable to register cuFFT factory: Attempting to register factory for plugin cuFFT when one has already been registered\n",
      "2024-06-14 19:40:33.655546: E tensorflow/compiler/xla/stream_executor/cuda/cuda_blas.cc:1518] Unable to register cuBLAS factory: Attempting to register factory for plugin cuBLAS when one has already been registered\n",
      "2024-06-14 19:40:33.663910: I tensorflow/core/platform/cpu_feature_guard.cc:182] This TensorFlow binary is optimized to use available CPU instructions in performance-critical operations.\n",
      "To enable the following instructions: AVX2 FMA, in other operations, rebuild TensorFlow with the appropriate compiler flags.\n"
     ]
    }
   ],
   "source": [
    "import tensorflow as tf\n",
    "from tensorflow.keras.layers import Dense, Embedding, LayerNormalization, MultiHeadAttention, Flatten, Resizing, Normalization,Input, add\n",
    "import tensorflow_datasets as tfds"
   ]
  },
  {
   "cell_type": "code",
   "execution_count": null,
   "metadata": {},
   "outputs": [
    {
     "data": {
      "text/plain": [
       "'/home/shriyam/Crux-r3/Task-3'"
      ]
     },
     "execution_count": 2,
     "metadata": {},
     "output_type": "execute_result"
    }
   ],
   "source": [
    "BATCH_SIZE = 32"
   ]
  },
  {
   "cell_type": "code",
   "execution_count": null,
   "metadata": {},
   "outputs": [],
   "source": [
    "\n",
    "(x_train, y_train), (x_test, y_test) = tf.keras.datasets.cifar100.load_data()\n"
   ]
  },
  {
   "cell_type": "code",
   "execution_count": null,
   "metadata": {},
   "outputs": [],
   "source": [
    "# for batch in train_data.take(1):\n",
    "#     inp,out = batch\n",
    "# print(inp)"
   ]
  },
  {
   "cell_type": "code",
   "execution_count": null,
   "metadata": {},
   "outputs": [],
   "source": [
    "class Patches(tf.keras.layers.Layer):\n",
    "    def __init__(self, patch_size):\n",
    "        super().__init__()\n",
    "        self.patch_size = patch_size\n",
    "    \n",
    "    def call(self, inputs):\n",
    "        (batch_size, h,w,c) = inputs.shape\n",
    "        patches = tf.image.extract_patches( inputs, sizes = (1,self.patch_size, self.patch_size, 1), strides = (1,self.patch_size, self.patch_size,1), rates = (1,1,1,1), padding=\"VALID\")\n",
    "        vert_num_patches = h // self.patch_size\n",
    "        horiz_num_patches = w // self.patch_size\n",
    "        print(patches)\n",
    "        if(batch_size == None): \n",
    "            patches = tf.reshape(patches, ( BATCH_SIZE, vert_num_patches * horiz_num_patches, self.patch_size**2 * c ) )\n",
    "        else:\n",
    "            patches = tf.reshape(patches, ( batch_size, vert_num_patches * horiz_num_patches, self.patch_size**2 * c ) )\n",
    "\n",
    "        return patches\n",
    "\n",
    "class PatchEncoder(tf.keras.layers.Layer):\n",
    "    def __init__(self, num_patches, projection_dim):\n",
    "        super().__init__()\n",
    "        self.num_patches = num_patches\n",
    "        self.projected_patches = Dense( projection_dim )\n",
    "        self.pos_embedding = Embedding( input_dim = num_patches, output_dim = projection_dim )\n",
    "\n",
    "    def call(self, patch):\n",
    "        positions = tf.expand_dims( tf.range( start = 0, limit = self.num_patches, delta = 1 ), axis = 0 )\n",
    "        projected_patches = self.projected_patches(patch)\n",
    "        encoded = projected_patches + self.pos_embedding(positions)\n",
    "        return encoded\n",
    "    \n",
    "class MLP(tf.keras.layers.Layer):\n",
    "    def __init__(self, input_units, output_units):\n",
    "        super().__init__()\n",
    "        self.dense_1 = Dense(input_units)\n",
    "        self.dense_2 = Dense(output_units)\n",
    "    \n",
    "    def call(self, x):\n",
    "        x = self.dense_1(x)\n",
    "        x = self.dense_2(x)\n",
    "        return x"
   ]
  },
  {
   "cell_type": "code",
   "execution_count": null,
   "metadata": {},
   "outputs": [],
   "source": [
    "class Encoder(tf.keras.layers.Layer):\n",
    "    def __init__( self, num_heads, projection_dim, mlp_input_units, mlp_output_units ):\n",
    "        super().__init__()\n",
    "        self.layerNorm_1 = LayerNormalization()\n",
    "        self.layerNorm_2 = LayerNormalization()\n",
    "        self.mha = MultiHeadAttention( num_heads=num_heads, key_dim=projection_dim )\n",
    "        self.mlp = MLP(mlp_input_units, mlp_output_units)\n",
    "    def call(self, input):\n",
    "        x = self.layerNorm_1(input)\n",
    "        x = self.mha(x,x)\n",
    "        attention = add([input,x])\n",
    "        x = self.layerNorm_2(attention)\n",
    "        x = self.mlp(x)\n",
    "        x = add([attention, x])\n",
    "\n",
    "        return x"
   ]
  },
  {
   "cell_type": "code",
   "execution_count": null,
   "metadata": {},
   "outputs": [],
   "source": [
    "\n",
    "class ViT(tf.keras.Model):\n",
    "    def __init__(self, img_size, num_layers, patch_size, num_patches, projection_dim, num_heads, transformer_mlp_input_units, transformer_mlp_output_units, mlp_input_units, mlp_output_units, num_classes):\n",
    "        super().__init__()\n",
    "        self.inputs = Input( shape= (32,32,3) )\n",
    "        self.resizing = Resizing(img_size, img_size)\n",
    "        self.patches = Patches(patch_size)\n",
    "        self.patch_encoder = PatchEncoder(num_patches, projection_dim)\n",
    "        self.encoder_layers = []\n",
    "        self.layerNorm = LayerNormalization()\n",
    "        self.flatten = Flatten()\n",
    "        self.mlp = MLP(mlp_input_units, mlp_output_units)\n",
    "        self.out = Dense(num_classes)\n",
    "\n",
    "        for i in range(num_layers):\n",
    "            self.encoder_layers.append(Encoder( num_heads, projection_dim, transformer_mlp_input_units, transformer_mlp_output_units ))\n",
    "        \n",
    "    def call(self, x):\n",
    "        x = self.resizing(x)\n",
    "        x = self.patches(x)\n",
    "        x = self.patch_encoder(x)\n",
    "        for i in range( len(self.encoder_layers) ):\n",
    "            x = self.encoder_layers[i](x)\n",
    "        x = self.layerNorm(x)\n",
    "        x = self.flatten(x)\n",
    "        x = self.mlp(x)\n",
    "        x = self.out(x)\n",
    "        return x"
   ]
  },
  {
   "cell_type": "code",
   "execution_count": null,
   "metadata": {},
   "outputs": [
    {
     "name": "stderr",
     "output_type": "stream",
     "text": [
      "2024-06-14 19:36:11.393854: I tensorflow/compiler/xla/stream_executor/cuda/cuda_gpu_executor.cc:880] could not open file to read NUMA node: /sys/bus/pci/devices/0000:01:00.0/numa_node\n",
      "Your kernel may have been built without NUMA support.\n",
      "2024-06-14 19:36:11.708408: I tensorflow/compiler/xla/stream_executor/cuda/cuda_gpu_executor.cc:880] could not open file to read NUMA node: /sys/bus/pci/devices/0000:01:00.0/numa_node\n",
      "Your kernel may have been built without NUMA support.\n",
      "2024-06-14 19:36:11.708460: I tensorflow/compiler/xla/stream_executor/cuda/cuda_gpu_executor.cc:880] could not open file to read NUMA node: /sys/bus/pci/devices/0000:01:00.0/numa_node\n",
      "Your kernel may have been built without NUMA support.\n",
      "2024-06-14 19:36:11.717971: I tensorflow/compiler/xla/stream_executor/cuda/cuda_gpu_executor.cc:880] could not open file to read NUMA node: /sys/bus/pci/devices/0000:01:00.0/numa_node\n",
      "Your kernel may have been built without NUMA support.\n",
      "2024-06-14 19:36:11.718028: I tensorflow/compiler/xla/stream_executor/cuda/cuda_gpu_executor.cc:880] could not open file to read NUMA node: /sys/bus/pci/devices/0000:01:00.0/numa_node\n",
      "Your kernel may have been built without NUMA support.\n",
      "2024-06-14 19:36:11.718049: I tensorflow/compiler/xla/stream_executor/cuda/cuda_gpu_executor.cc:880] could not open file to read NUMA node: /sys/bus/pci/devices/0000:01:00.0/numa_node\n",
      "Your kernel may have been built without NUMA support.\n",
      "2024-06-14 19:36:12.796814: I tensorflow/compiler/xla/stream_executor/cuda/cuda_gpu_executor.cc:880] could not open file to read NUMA node: /sys/bus/pci/devices/0000:01:00.0/numa_node\n",
      "Your kernel may have been built without NUMA support.\n",
      "2024-06-14 19:36:12.796871: I tensorflow/compiler/xla/stream_executor/cuda/cuda_gpu_executor.cc:880] could not open file to read NUMA node: /sys/bus/pci/devices/0000:01:00.0/numa_node\n",
      "Your kernel may have been built without NUMA support.\n",
      "2024-06-14 19:36:12.796879: I tensorflow/core/common_runtime/gpu/gpu_device.cc:1977] Could not identify NUMA node of platform GPU id 0, defaulting to 0.  Your kernel may not have been built with NUMA support.\n",
      "2024-06-14 19:36:12.796938: I tensorflow/compiler/xla/stream_executor/cuda/cuda_gpu_executor.cc:880] could not open file to read NUMA node: /sys/bus/pci/devices/0000:01:00.0/numa_node\n",
      "Your kernel may have been built without NUMA support.\n",
      "2024-06-14 19:36:12.796961: I tensorflow/core/common_runtime/gpu/gpu_device.cc:1886] Created device /job:localhost/replica:0/task:0/device:GPU:0 with 1766 MB memory:  -> device: 0, name: NVIDIA GeForce RTX 3050 Ti Laptop GPU, pci bus id: 0000:01:00.0, compute capability: 8.6\n"
     ]
    }
   ],
   "source": [
    "inp_shape = (32,32,3)\n",
    "num_layers = 8\n",
    "patch_size = 6\n",
    "img_size = 72\n",
    "num_patches = (img_size // patch_size) ** 2\n",
    "projection_dim = 64\n",
    "num_heads = 4\n",
    "transformer_mlp_input_units = projection_dim * 2\n",
    "transformer_mlp_output_units = projection_dim\n",
    "mlp_input_units = 2048\n",
    "mlp_output_units = 1024\n",
    "num_classes = 100\n",
    "\n",
    "vision_transformer = ViT(img_size, num_layers, patch_size, num_patches, projection_dim, num_heads, transformer_mlp_input_units, transformer_mlp_output_units, mlp_input_units, mlp_output_units, num_classes)\n",
    "\n",
    "vision_transformer.compile(\n",
    "    optimizer=tf.keras.optimizers.AdamW(weight_decay = 0.0001, learning_rate = 0.001),\n",
    "    loss= tf.keras.losses.SparseCategoricalCrossentropy(from_logits = True),\n",
    "    metrics=['accuracy']\n",
    ")\n"
   ]
  },
  {
   "cell_type": "code",
   "execution_count": null,
   "metadata": {},
   "outputs": [
    {
     "name": "stdout",
     "output_type": "stream",
     "text": [
      "Epoch 1/10\n",
      "Tensor(\"vi_t/patches/ExtractImagePatches:0\", shape=(None, 12, 12, 108), dtype=float32)\n",
      "Tensor(\"vi_t/patches/ExtractImagePatches:0\", shape=(None, 12, 12, 108), dtype=float32)\n"
     ]
    },
    {
     "name": "stderr",
     "output_type": "stream",
     "text": [
      "2024-06-14 19:36:23.492831: I tensorflow/compiler/xla/stream_executor/cuda/cuda_dnn.cc:442] Loaded cuDNN version 8907\n",
      "2024-06-14 19:36:23.745359: I tensorflow/compiler/xla/service/service.cc:168] XLA service 0x7efca9b98050 initialized for platform CUDA (this does not guarantee that XLA will be used). Devices:\n",
      "2024-06-14 19:36:23.745400: I tensorflow/compiler/xla/service/service.cc:176]   StreamExecutor device (0): NVIDIA GeForce RTX 3050 Ti Laptop GPU, Compute Capability 8.6\n",
      "2024-06-14 19:36:23.773977: I tensorflow/compiler/mlir/tensorflow/utils/dump_mlir_util.cc:269] disabling MLIR crash reproducer, set env var `MLIR_CRASH_REPRODUCER_DIRECTORY` to enable.\n",
      "2024-06-14 19:36:24.015465: I ./tensorflow/compiler/jit/device_compiler.h:186] Compiled cluster using XLA!  This line is logged at most once for the lifetime of the process.\n"
     ]
    },
    {
     "name": "stdout",
     "output_type": "stream",
     "text": [
      "1562/1563 [============================>.] - ETA: 0s - loss: 18.0515 - accuracy: 0.0673"
     ]
    },
    {
     "ename": "InvalidArgumentError",
     "evalue": "Graph execution error:\n\nDetected at node vi_t/patch_encoder/dense/Tensordot/Reshape defined at (most recent call last):\n  File \"/usr/lib/python3.10/runpy.py\", line 196, in _run_module_as_main\n\n  File \"/usr/lib/python3.10/runpy.py\", line 86, in _run_code\n\n  File \"/home/shriyam/.local/lib/python3.10/site-packages/ipykernel_launcher.py\", line 17, in <module>\n\n  File \"/home/shriyam/.local/lib/python3.10/site-packages/traitlets/config/application.py\", line 1053, in launch_instance\n\n  File \"/home/shriyam/.local/lib/python3.10/site-packages/ipykernel/kernelapp.py\", line 737, in start\n\n  File \"/home/shriyam/.local/lib/python3.10/site-packages/tornado/platform/asyncio.py\", line 195, in start\n\n  File \"/usr/lib/python3.10/asyncio/base_events.py\", line 603, in run_forever\n\n  File \"/usr/lib/python3.10/asyncio/base_events.py\", line 1909, in _run_once\n\n  File \"/usr/lib/python3.10/asyncio/events.py\", line 80, in _run\n\n  File \"/home/shriyam/.local/lib/python3.10/site-packages/ipykernel/kernelbase.py\", line 524, in dispatch_queue\n\n  File \"/home/shriyam/.local/lib/python3.10/site-packages/ipykernel/kernelbase.py\", line 513, in process_one\n\n  File \"/home/shriyam/.local/lib/python3.10/site-packages/ipykernel/kernelbase.py\", line 418, in dispatch_shell\n\n  File \"/home/shriyam/.local/lib/python3.10/site-packages/ipykernel/kernelbase.py\", line 758, in execute_request\n\n  File \"/home/shriyam/.local/lib/python3.10/site-packages/ipykernel/ipkernel.py\", line 426, in do_execute\n\n  File \"/home/shriyam/.local/lib/python3.10/site-packages/ipykernel/zmqshell.py\", line 549, in run_cell\n\n  File \"/home/shriyam/.local/lib/python3.10/site-packages/IPython/core/interactiveshell.py\", line 3024, in run_cell\n\n  File \"/home/shriyam/.local/lib/python3.10/site-packages/IPython/core/interactiveshell.py\", line 3079, in _run_cell\n\n  File \"/home/shriyam/.local/lib/python3.10/site-packages/IPython/core/async_helpers.py\", line 129, in _pseudo_sync_runner\n\n  File \"/home/shriyam/.local/lib/python3.10/site-packages/IPython/core/interactiveshell.py\", line 3284, in run_cell_async\n\n  File \"/home/shriyam/.local/lib/python3.10/site-packages/IPython/core/interactiveshell.py\", line 3466, in run_ast_nodes\n\n  File \"/home/shriyam/.local/lib/python3.10/site-packages/IPython/core/interactiveshell.py\", line 3526, in run_code\n\n  File \"/tmp/ipykernel_359318/2273860336.py\", line 1, in <module>\n\n  File \"/home/shriyam/.local/lib/python3.10/site-packages/keras/src/utils/traceback_utils.py\", line 65, in error_handler\n\n  File \"/home/shriyam/.local/lib/python3.10/site-packages/keras/src/engine/training.py\", line 1783, in fit\n\n  File \"/home/shriyam/.local/lib/python3.10/site-packages/keras/src/engine/training.py\", line 1377, in train_function\n\n  File \"/home/shriyam/.local/lib/python3.10/site-packages/keras/src/engine/training.py\", line 1360, in step_function\n\n  File \"/home/shriyam/.local/lib/python3.10/site-packages/keras/src/engine/training.py\", line 1349, in run_step\n\n  File \"/home/shriyam/.local/lib/python3.10/site-packages/keras/src/engine/training.py\", line 1126, in train_step\n\n  File \"/home/shriyam/.local/lib/python3.10/site-packages/keras/src/utils/traceback_utils.py\", line 65, in error_handler\n\n  File \"/home/shriyam/.local/lib/python3.10/site-packages/keras/src/engine/training.py\", line 589, in __call__\n\n  File \"/home/shriyam/.local/lib/python3.10/site-packages/keras/src/utils/traceback_utils.py\", line 65, in error_handler\n\n  File \"/home/shriyam/.local/lib/python3.10/site-packages/keras/src/engine/base_layer.py\", line 1149, in __call__\n\n  File \"/home/shriyam/.local/lib/python3.10/site-packages/keras/src/utils/traceback_utils.py\", line 96, in error_handler\n\n  File \"/tmp/ipykernel_359318/3023161626.py\", line 20, in call\n\n  File \"/home/shriyam/.local/lib/python3.10/site-packages/keras/src/utils/traceback_utils.py\", line 65, in error_handler\n\n  File \"/home/shriyam/.local/lib/python3.10/site-packages/keras/src/engine/base_layer.py\", line 1149, in __call__\n\n  File \"/home/shriyam/.local/lib/python3.10/site-packages/keras/src/utils/traceback_utils.py\", line 96, in error_handler\n\n  File \"/tmp/ipykernel_359318/1292755962.py\", line 25, in call\n\n  File \"/home/shriyam/.local/lib/python3.10/site-packages/keras/src/utils/traceback_utils.py\", line 65, in error_handler\n\n  File \"/home/shriyam/.local/lib/python3.10/site-packages/keras/src/engine/base_layer.py\", line 1149, in __call__\n\n  File \"/home/shriyam/.local/lib/python3.10/site-packages/keras/src/utils/traceback_utils.py\", line 96, in error_handler\n\n  File \"/home/shriyam/.local/lib/python3.10/site-packages/keras/src/layers/core/dense.py\", line 244, in call\n\nInput to reshape is a tensor with 248832 values, but the requested shape has 497664\n\t [[{{node vi_t/patch_encoder/dense/Tensordot/Reshape}}]] [Op:__inference_train_function_16155]",
     "output_type": "error",
     "traceback": [
      "\u001b[0;31m---------------------------------------------------------------------------\u001b[0m",
      "\u001b[0;31mInvalidArgumentError\u001b[0m                      Traceback (most recent call last)",
      "Cell \u001b[0;32mIn[9], line 1\u001b[0m\n\u001b[0;32m----> 1\u001b[0m history \u001b[38;5;241m=\u001b[39m \u001b[43mvision_transformer\u001b[49m\u001b[38;5;241;43m.\u001b[39;49m\u001b[43mfit\u001b[49m\u001b[43m(\u001b[49m\n\u001b[1;32m      2\u001b[0m \u001b[43m    \u001b[49m\u001b[43mx\u001b[49m\u001b[43m \u001b[49m\u001b[38;5;241;43m=\u001b[39;49m\u001b[43m \u001b[49m\u001b[43mx_train\u001b[49m\u001b[43m,\u001b[49m\n\u001b[1;32m      3\u001b[0m \u001b[43m    \u001b[49m\u001b[43my\u001b[49m\u001b[43m \u001b[49m\u001b[38;5;241;43m=\u001b[39;49m\u001b[43m \u001b[49m\u001b[43my_train\u001b[49m\u001b[43m,\u001b[49m\n\u001b[1;32m      4\u001b[0m \u001b[43m    \u001b[49m\u001b[43mbatch_size\u001b[49m\u001b[38;5;241;43m=\u001b[39;49m\u001b[38;5;241;43m32\u001b[39;49m\u001b[43m,\u001b[49m\n\u001b[1;32m      5\u001b[0m \u001b[43m    \u001b[49m\u001b[43mepochs\u001b[49m\u001b[38;5;241;43m=\u001b[39;49m\u001b[38;5;241;43m10\u001b[39;49m\u001b[43m,\u001b[49m\n\u001b[1;32m      6\u001b[0m \u001b[43m)\u001b[49m\n",
      "File \u001b[0;32m~/.local/lib/python3.10/site-packages/keras/src/utils/traceback_utils.py:70\u001b[0m, in \u001b[0;36mfilter_traceback.<locals>.error_handler\u001b[0;34m(*args, **kwargs)\u001b[0m\n\u001b[1;32m     67\u001b[0m     filtered_tb \u001b[38;5;241m=\u001b[39m _process_traceback_frames(e\u001b[38;5;241m.\u001b[39m__traceback__)\n\u001b[1;32m     68\u001b[0m     \u001b[38;5;66;03m# To get the full stack trace, call:\u001b[39;00m\n\u001b[1;32m     69\u001b[0m     \u001b[38;5;66;03m# `tf.debugging.disable_traceback_filtering()`\u001b[39;00m\n\u001b[0;32m---> 70\u001b[0m     \u001b[38;5;28;01mraise\u001b[39;00m e\u001b[38;5;241m.\u001b[39mwith_traceback(filtered_tb) \u001b[38;5;28;01mfrom\u001b[39;00m \u001b[38;5;28;01mNone\u001b[39;00m\n\u001b[1;32m     71\u001b[0m \u001b[38;5;28;01mfinally\u001b[39;00m:\n\u001b[1;32m     72\u001b[0m     \u001b[38;5;28;01mdel\u001b[39;00m filtered_tb\n",
      "File \u001b[0;32m~/.local/lib/python3.10/site-packages/tensorflow/python/eager/execute.py:60\u001b[0m, in \u001b[0;36mquick_execute\u001b[0;34m(op_name, num_outputs, inputs, attrs, ctx, name)\u001b[0m\n\u001b[1;32m     53\u001b[0m   \u001b[38;5;66;03m# Convert any objects of type core_types.Tensor to Tensor.\u001b[39;00m\n\u001b[1;32m     54\u001b[0m   inputs \u001b[38;5;241m=\u001b[39m [\n\u001b[1;32m     55\u001b[0m       tensor_conversion_registry\u001b[38;5;241m.\u001b[39mconvert(t)\n\u001b[1;32m     56\u001b[0m       \u001b[38;5;28;01mif\u001b[39;00m \u001b[38;5;28misinstance\u001b[39m(t, core_types\u001b[38;5;241m.\u001b[39mTensor)\n\u001b[1;32m     57\u001b[0m       \u001b[38;5;28;01melse\u001b[39;00m t\n\u001b[1;32m     58\u001b[0m       \u001b[38;5;28;01mfor\u001b[39;00m t \u001b[38;5;129;01min\u001b[39;00m inputs\n\u001b[1;32m     59\u001b[0m   ]\n\u001b[0;32m---> 60\u001b[0m   tensors \u001b[38;5;241m=\u001b[39m pywrap_tfe\u001b[38;5;241m.\u001b[39mTFE_Py_Execute(ctx\u001b[38;5;241m.\u001b[39m_handle, device_name, op_name,\n\u001b[1;32m     61\u001b[0m                                       inputs, attrs, num_outputs)\n\u001b[1;32m     62\u001b[0m \u001b[38;5;28;01mexcept\u001b[39;00m core\u001b[38;5;241m.\u001b[39m_NotOkStatusException \u001b[38;5;28;01mas\u001b[39;00m e:\n\u001b[1;32m     63\u001b[0m   \u001b[38;5;28;01mif\u001b[39;00m name \u001b[38;5;129;01mis\u001b[39;00m \u001b[38;5;129;01mnot\u001b[39;00m \u001b[38;5;28;01mNone\u001b[39;00m:\n",
      "\u001b[0;31mInvalidArgumentError\u001b[0m: Graph execution error:\n\nDetected at node vi_t/patch_encoder/dense/Tensordot/Reshape defined at (most recent call last):\n  File \"/usr/lib/python3.10/runpy.py\", line 196, in _run_module_as_main\n\n  File \"/usr/lib/python3.10/runpy.py\", line 86, in _run_code\n\n  File \"/home/shriyam/.local/lib/python3.10/site-packages/ipykernel_launcher.py\", line 17, in <module>\n\n  File \"/home/shriyam/.local/lib/python3.10/site-packages/traitlets/config/application.py\", line 1053, in launch_instance\n\n  File \"/home/shriyam/.local/lib/python3.10/site-packages/ipykernel/kernelapp.py\", line 737, in start\n\n  File \"/home/shriyam/.local/lib/python3.10/site-packages/tornado/platform/asyncio.py\", line 195, in start\n\n  File \"/usr/lib/python3.10/asyncio/base_events.py\", line 603, in run_forever\n\n  File \"/usr/lib/python3.10/asyncio/base_events.py\", line 1909, in _run_once\n\n  File \"/usr/lib/python3.10/asyncio/events.py\", line 80, in _run\n\n  File \"/home/shriyam/.local/lib/python3.10/site-packages/ipykernel/kernelbase.py\", line 524, in dispatch_queue\n\n  File \"/home/shriyam/.local/lib/python3.10/site-packages/ipykernel/kernelbase.py\", line 513, in process_one\n\n  File \"/home/shriyam/.local/lib/python3.10/site-packages/ipykernel/kernelbase.py\", line 418, in dispatch_shell\n\n  File \"/home/shriyam/.local/lib/python3.10/site-packages/ipykernel/kernelbase.py\", line 758, in execute_request\n\n  File \"/home/shriyam/.local/lib/python3.10/site-packages/ipykernel/ipkernel.py\", line 426, in do_execute\n\n  File \"/home/shriyam/.local/lib/python3.10/site-packages/ipykernel/zmqshell.py\", line 549, in run_cell\n\n  File \"/home/shriyam/.local/lib/python3.10/site-packages/IPython/core/interactiveshell.py\", line 3024, in run_cell\n\n  File \"/home/shriyam/.local/lib/python3.10/site-packages/IPython/core/interactiveshell.py\", line 3079, in _run_cell\n\n  File \"/home/shriyam/.local/lib/python3.10/site-packages/IPython/core/async_helpers.py\", line 129, in _pseudo_sync_runner\n\n  File \"/home/shriyam/.local/lib/python3.10/site-packages/IPython/core/interactiveshell.py\", line 3284, in run_cell_async\n\n  File \"/home/shriyam/.local/lib/python3.10/site-packages/IPython/core/interactiveshell.py\", line 3466, in run_ast_nodes\n\n  File \"/home/shriyam/.local/lib/python3.10/site-packages/IPython/core/interactiveshell.py\", line 3526, in run_code\n\n  File \"/tmp/ipykernel_359318/2273860336.py\", line 1, in <module>\n\n  File \"/home/shriyam/.local/lib/python3.10/site-packages/keras/src/utils/traceback_utils.py\", line 65, in error_handler\n\n  File \"/home/shriyam/.local/lib/python3.10/site-packages/keras/src/engine/training.py\", line 1783, in fit\n\n  File \"/home/shriyam/.local/lib/python3.10/site-packages/keras/src/engine/training.py\", line 1377, in train_function\n\n  File \"/home/shriyam/.local/lib/python3.10/site-packages/keras/src/engine/training.py\", line 1360, in step_function\n\n  File \"/home/shriyam/.local/lib/python3.10/site-packages/keras/src/engine/training.py\", line 1349, in run_step\n\n  File \"/home/shriyam/.local/lib/python3.10/site-packages/keras/src/engine/training.py\", line 1126, in train_step\n\n  File \"/home/shriyam/.local/lib/python3.10/site-packages/keras/src/utils/traceback_utils.py\", line 65, in error_handler\n\n  File \"/home/shriyam/.local/lib/python3.10/site-packages/keras/src/engine/training.py\", line 589, in __call__\n\n  File \"/home/shriyam/.local/lib/python3.10/site-packages/keras/src/utils/traceback_utils.py\", line 65, in error_handler\n\n  File \"/home/shriyam/.local/lib/python3.10/site-packages/keras/src/engine/base_layer.py\", line 1149, in __call__\n\n  File \"/home/shriyam/.local/lib/python3.10/site-packages/keras/src/utils/traceback_utils.py\", line 96, in error_handler\n\n  File \"/tmp/ipykernel_359318/3023161626.py\", line 20, in call\n\n  File \"/home/shriyam/.local/lib/python3.10/site-packages/keras/src/utils/traceback_utils.py\", line 65, in error_handler\n\n  File \"/home/shriyam/.local/lib/python3.10/site-packages/keras/src/engine/base_layer.py\", line 1149, in __call__\n\n  File \"/home/shriyam/.local/lib/python3.10/site-packages/keras/src/utils/traceback_utils.py\", line 96, in error_handler\n\n  File \"/tmp/ipykernel_359318/1292755962.py\", line 25, in call\n\n  File \"/home/shriyam/.local/lib/python3.10/site-packages/keras/src/utils/traceback_utils.py\", line 65, in error_handler\n\n  File \"/home/shriyam/.local/lib/python3.10/site-packages/keras/src/engine/base_layer.py\", line 1149, in __call__\n\n  File \"/home/shriyam/.local/lib/python3.10/site-packages/keras/src/utils/traceback_utils.py\", line 96, in error_handler\n\n  File \"/home/shriyam/.local/lib/python3.10/site-packages/keras/src/layers/core/dense.py\", line 244, in call\n\nInput to reshape is a tensor with 248832 values, but the requested shape has 497664\n\t [[{{node vi_t/patch_encoder/dense/Tensordot/Reshape}}]] [Op:__inference_train_function_16155]"
     ]
    }
   ],
   "source": [
    "\n",
    "history = vision_transformer.fit(\n",
    "    x = x_train,\n",
    "    y = y_train,\n",
    "    batch_size=32,\n",
    "    epochs=10,\n",
    ")"
   ]
  }
 ],
 "metadata": {
  "kernelspec": {
   "display_name": "Python 3",
   "language": "python",
   "name": "python3"
  },
  "language_info": {
   "codemirror_mode": {
    "name": "ipython",
    "version": 3
   },
   "file_extension": ".py",
   "mimetype": "text/x-python",
   "name": "python",
   "nbconvert_exporter": "python",
   "pygments_lexer": "ipython3",
   "version": "3.10.12"
  }
 },
 "nbformat": 4,
 "nbformat_minor": 2
}
